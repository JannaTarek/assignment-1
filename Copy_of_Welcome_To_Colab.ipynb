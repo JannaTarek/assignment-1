{
  "cells": [
    {
      "cell_type": "markdown",
      "metadata": {
        "id": "view-in-github",
        "colab_type": "text"
      },
      "source": [
        "<a href=\"https://colab.research.google.com/github/JannaTarek/assignment-1/blob/main/Copy_of_Welcome_To_Colab.ipynb\" target=\"_parent\"><img src=\"https://colab.research.google.com/assets/colab-badge.svg\" alt=\"Open In Colab\"/></a>"
      ]
    },
    {
      "cell_type": "code",
      "source": [
        "# Create a list of dictionaries for students\n",
        "students = [\n",
        "    {\"name\": \"sara\", \"grades\": [85, 90, 78]},\n",
        "    {\"name\": \"ahmed\", \"grades\": [70, 75, 80]},\n",
        "    {\"name\": \"yassin\", \"grades\": [92, 88, 95]}\n",
        "]\n",
        "\n",
        "# Calculate and print the average grade for each student\n",
        "print(\"Student Averages:\")\n",
        "for student in students:\n",
        "    name = student[\"name\"]\n",
        "    grades = student[\"grades\"]\n",
        "    average = sum(grades) / len(grades)\n",
        "    print(f\"{name}: Average Grade = {average:.2f}\")"
      ],
      "metadata": {
        "colab": {
          "base_uri": "https://localhost:8080/"
        },
        "id": "_8ERiBniozrf",
        "outputId": "afeb6d91-64dd-4f63-dab8-ef6d409dc356"
      },
      "execution_count": 1,
      "outputs": [
        {
          "output_type": "stream",
          "name": "stdout",
          "text": [
            "Student Averages:\n",
            "sara: Average Grade = 84.33\n",
            "ahmed: Average Grade = 75.00\n",
            "yassin: Average Grade = 91.67\n"
          ]
        }
      ]
    }
  ],
  "metadata": {
    "colab": {
      "toc_visible": true,
      "provenance": [],
      "include_colab_link": true
    },
    "kernelspec": {
      "display_name": "Python 3",
      "name": "python3"
    }
  },
  "nbformat": 4,
  "nbformat_minor": 0
}