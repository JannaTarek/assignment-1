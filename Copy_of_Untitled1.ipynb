{
  "nbformat": 4,
  "nbformat_minor": 0,
  "metadata": {
    "colab": {
      "provenance": [],
      "authorship_tag": "ABX9TyO0fn25J+V5J/dizMvxlDgy",
      "include_colab_link": true
    },
    "kernelspec": {
      "name": "python3",
      "display_name": "Python 3"
    },
    "language_info": {
      "name": "python"
    }
  },
  "cells": [
    {
      "cell_type": "markdown",
      "metadata": {
        "id": "view-in-github",
        "colab_type": "text"
      },
      "source": [
        "<a href=\"https://colab.research.google.com/github/JannaTarek/assignment-1/blob/main/Copy_of_Untitled1.ipynb\" target=\"_parent\"><img src=\"https://colab.research.google.com/assets/colab-badge.svg\" alt=\"Open In Colab\"/></a>"
      ]
    },
    {
      "cell_type": "code",
      "source": [
        "#creat list of intigers from 30 to 60\n",
        "numbers = list(range(30,61))\n",
        "#use loop to find all numbers divisible by 3\n",
        "divisible_by_3 = []\n",
        "for numbers in numbers:\n",
        "  if numbers % 3 == 0:\n",
        "    divisible_by_3.append(numbers)\n",
        "#print the numbers divisble by 3\n",
        "print(\"Numbers divisible by 3:\", divisible_by_3)"
      ],
      "metadata": {
        "colab": {
          "base_uri": "https://localhost:8080/"
        },
        "id": "g9UXicMztWNH",
        "outputId": "a065e35f-7eed-4b54-8371-b17c1d9fb885"
      },
      "execution_count": null,
      "outputs": [
        {
          "output_type": "stream",
          "name": "stdout",
          "text": [
            "Numbers divisible by 3: [30, 33, 36, 39, 42, 45, 48, 51, 54, 57, 60]\n"
          ]
        }
      ]
    }
  ]
}