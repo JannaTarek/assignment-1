{
  "nbformat": 4,
  "nbformat_minor": 0,
  "metadata": {
    "colab": {
      "provenance": []
    },
    "kernelspec": {
      "name": "python3",
      "display_name": "Python 3"
    },
    "language_info": {
      "name": "python"
    }
  },
  "cells": [
    {
      "cell_type": "code",
      "source": [
        "# Define variables for item prices\n",
        "item1_price = 30.99\n",
        "item2_price = 10.50\n",
        "item3_price = 40.75\n",
        "\n",
        "# Define total budget\n",
        "budget = 80.00\n",
        "\n",
        "# Calculate total cost of items\n",
        "total_cost = item1_price + item2_price + item3_price\n",
        "\n",
        "# Compare total cost with budget and calculate the difference\n",
        "difference = budget - total_cost\n",
        "\n",
        "# Display results\n",
        "print(f\"Total cost of items: ${total_cost}\")\n",
        "print(f\"Budget: ${budget}\")\n",
        "\n",
        "if total_cost <= budget:\n",
        "    print(f\"You are within budget. Money left: ${difference}\")\n",
        "else:\n",
        "    print(f\"You exceeded the budget. Additional money needed: ${abs(difference)}\")"
      ],
      "metadata": {
        "id": "84x4EDU4DQHw",
        "outputId": "abce49da-85a6-472c-8a7d-8ac77bde9060",
        "colab": {
          "base_uri": "https://localhost:8080/"
        }
      },
      "execution_count": 1,
      "outputs": [
        {
          "output_type": "stream",
          "name": "stdout",
          "text": [
            "Total cost of items: $82.24\n",
            "Budget: $80.0\n",
            "You exceeded the budget. Additional money needed: $2.239999999999995\n"
          ]
        }
      ]
    }
  ]
}