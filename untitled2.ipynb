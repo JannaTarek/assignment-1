{
  "nbformat": 4,
  "nbformat_minor": 0,
  "metadata": {
    "colab": {
      "provenance": [],
      "authorship_tag": "ABX9TyPfqol8G7/LqvgWhj/B5oaO",
      "include_colab_link": true
    },
    "kernelspec": {
      "name": "python3",
      "display_name": "Python 3"
    },
    "language_info": {
      "name": "python"
    }
  },
  "cells": [
    {
      "cell_type": "markdown",
      "metadata": {
        "id": "view-in-github",
        "colab_type": "text"
      },
      "source": [
        "<a href=\"https://colab.research.google.com/github/JannaTarek/assignment-1/blob/main/untitled2.ipynb\" target=\"_parent\"><img src=\"https://colab.research.google.com/assets/colab-badge.svg\" alt=\"Open In Colab\"/></a>"
      ]
    },
    {
      "cell_type": "code",
      "source": [
        "#Prime Number Checker\n",
        "def is_prime(n):\n",
        "    if n <= 1:\n",
        "        return False\n",
        "    if n == 2:\n",
        "        return True\n",
        "    if n % 2 == 0:\n",
        "        return False\n",
        "    for i in range(3, int(n**0.5) + 1, 2):\n",
        "        if n % i == 0:\n",
        "            return False\n",
        "    return True\n",
        "\n",
        "#Custom Calculator\n",
        "def calculator(a, b, operation):\n",
        "    if operation == \"add\":\n",
        "        return a + b\n",
        "    elif operation == \"subtract\":\n",
        "        return a - b\n",
        "    elif operation == \"multiply\":\n",
        "        return a * b\n",
        "    elif operation == \"divide\":\n",
        "        if b == 0:\n",
        "            return \"Error: Cannot divide by zero\"\n",
        "        return a / b\n",
        "    else:\n",
        "        return \"Error: Invalid operation\"\n",
        "\n",
        "# Prime Checker\n",
        "print(\"Prime Checker Results:\")\n",
        "print(\"Is 7 prime?\", is_prime(7))     # True\n",
        "print(\"Is 10 prime?\", is_prime(10))   # False\n",
        "\n",
        "# Calculator\n",
        "print(\"\\nCalculator Results:\")\n",
        "print(\"10 + 5 =\", calculator(10, 5, \"add\"))        # 15\n",
        "print(\"10 - 5 =\", calculator(10, 5, \"subtract\"))   # 5\n",
        "print(\"10 * 5 =\", calculator(10, 5, \"multiply\"))   # 50\n",
        "print(\"10 / 5 =\", calculator(10, 5, \"divide\"))     # 2.0\n",
        "print(\"10 / 0 =\", calculator(10, 0, \"divide\"))     # Error: Cannot divide by zero\n"
      ],
      "metadata": {
        "colab": {
          "base_uri": "https://localhost:8080/"
        },
        "id": "03iaP9ncH6tj",
        "outputId": "e7a34bbe-e6ed-4e15-e452-d15911f95624"
      },
      "execution_count": null,
      "outputs": [
        {
          "output_type": "stream",
          "name": "stdout",
          "text": [
            "Prime Checker Results:\n",
            "Is 7 prime? True\n",
            "Is 10 prime? False\n",
            "\n",
            "Calculator Results:\n",
            "10 + 5 = 15\n",
            "10 - 5 = 5\n",
            "10 * 5 = 50\n",
            "10 / 5 = 2.0\n",
            "10 / 0 = Error: Cannot divide by zero\n"
          ]
        }
      ]
    }
  ]
}