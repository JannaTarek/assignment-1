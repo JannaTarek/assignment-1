{
  "nbformat": 4,
  "nbformat_minor": 0,
  "metadata": {
    "kernelspec": {
      "name": "python36",
      "display_name": "Python 3.6",
      "language": "python"
    },
    "language_info": {
      "mimetype": "text/x-python",
      "nbconvert_exporter": "python",
      "name": "python",
      "pygments_lexer": "ipython3",
      "version": "3.6.6",
      "file_extension": ".py",
      "codemirror_mode": {
        "version": 3,
        "name": "ipython"
      }
    },
    "colab": {
      "provenance": [],
      "toc_visible": true,
      "include_colab_link": true
    }
  },
  "cells": [
    {
      "cell_type": "markdown",
      "metadata": {
        "id": "view-in-github",
        "colab_type": "text"
      },
      "source": [
        "<a href=\"https://colab.research.google.com/github/JannaTarek/assignment-1/blob/main/Copy_of_python_fundamentals.ipynb\" target=\"_parent\"><img src=\"https://colab.research.google.com/assets/colab-badge.svg\" alt=\"Open In Colab\"/></a>"
      ]
    },
    {
      "cell_type": "code",
      "source": [
        "# 1. Create Arrays\n",
        "A = np.array([10, 20, 30, 40, 50])\n",
        "B = np.array([5, 4, 3, 2, 1])\n",
        "\n",
        "# 2. Perform Operations\n",
        "addition = A + B\n",
        "subtraction = A - B\n",
        "multiplication = A * B\n",
        "division = A / B\n",
        "\n",
        "# 3. Apply NumPy Functions\n",
        "mean_A = np.mean(A)\n",
        "max_A = np.max(A)\n",
        "min_A = np.min(A)\n",
        "dot_product = np.dot(A, B)\n",
        "reshaped_A = A.reshape((5, 1))\n",
        "\n",
        "# 4. Print Results\n",
        "print(\"Array A:\", A)\n",
        "print(\"Array B:\", B)\n",
        "print(\"A + B:\", addition)\n",
        "print(\"A - B:\", subtraction)\n",
        "print(\"A * B:\", multiplication)\n",
        "print(\"A / B:\", division)\n",
        "print(\"Mean of A:\", mean_A)\n",
        "print(\"Max of A:\", max_A)\n",
        "print(\"Min of A:\", min_A)\n",
        "print(\"Dot product of A and B:\", dot_product)\n",
        "print(\"Reshaped A (5x1):\\n\", reshaped_A)"
      ],
      "metadata": {
        "colab": {
          "base_uri": "https://localhost:8080/"
        },
        "id": "UfKyqHpxDOtp",
        "outputId": "2779bf8b-8a5d-44f5-f7e9-521a9c11f6f3"
      },
      "execution_count": null,
      "outputs": [
        {
          "output_type": "stream",
          "name": "stdout",
          "text": [
            "Array A: [10 20 30 40 50]\n",
            "Array B: [5 4 3 2 1]\n",
            "A + B: [15 24 33 42 51]\n",
            "A - B: [ 5 16 27 38 49]\n",
            "A * B: [50 80 90 80 50]\n",
            "A / B: [ 2.  5. 10. 20. 50.]\n",
            "Mean of A: 30.0\n",
            "Max of A: 50\n",
            "Min of A: 10\n",
            "Dot product of A and B: 350\n",
            "Reshaped A (5x1):\n",
            " [[10]\n",
            " [20]\n",
            " [30]\n",
            " [40]\n",
            " [50]]\n"
          ]
        }
      ]
    },
    {
      "cell_type": "code",
      "source": [
        " # Import the pandas library and assign it to the alias 'pd'\n",
        "\n",
        "# 1. Create a DataFrame\n",
        "students_data = pd.DataFrame({\n",
        "    'Name': ['Alice', 'Bob', 'Charlie', 'David', 'Eva'],\n",
        "    'Age': [20, 22, 19, 21, 20],\n",
        "    'Grade': ['A', 'B', 'A', 'C', 'B'],\n",
        "    'Marks': [85, 78, 92, 65, 74]\n",
        "})\n",
        "\n",
        "# 3. Access Data\n",
        "\n",
        "# a. Display the first 3 rows of the DataFrame\n",
        "print(\"First 3 rows:\")\n",
        "print(students_data.head(3))\n",
        "\n",
        "# b. Select and display only the \"Name\" and \"Marks\" columns\n",
        "print(\"\\nName and Marks columns:\")\n",
        "print(students_data[['Name', 'Marks']])\n",
        "\n",
        "# c. Filter and show the students who have a grade of 'A'\n",
        "print(\"\\nStudents with grade 'A':\")\n",
        "print(students_data[students_data['Grade'] == 'A'])"
      ],
      "metadata": {
        "id": "qcD4-qH4E8ww",
        "outputId": "83aad33d-035a-43e5-a463-7d2effa4f432",
        "colab": {
          "base_uri": "https://localhost:8080/"
        }
      },
      "execution_count": null,
      "outputs": [
        {
          "output_type": "stream",
          "name": "stdout",
          "text": [
            "First 3 rows:\n",
            "      Name  Age Grade  Marks\n",
            "0    Alice   20     A     85\n",
            "1      Bob   22     B     78\n",
            "2  Charlie   19     A     92\n",
            "\n",
            "Name and Marks columns:\n",
            "      Name  Marks\n",
            "0    Alice     85\n",
            "1      Bob     78\n",
            "2  Charlie     92\n",
            "3    David     65\n",
            "4      Eva     74\n",
            "\n",
            "Students with grade 'A':\n",
            "      Name  Age Grade  Marks\n",
            "0    Alice   20     A     85\n",
            "2  Charlie   19     A     92\n"
          ]
        }
      ]
    }
  ]
}