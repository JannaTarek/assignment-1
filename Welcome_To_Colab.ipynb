{
  "cells": [
    {
      "cell_type": "markdown",
      "metadata": {
        "id": "view-in-github",
        "colab_type": "text"
      },
      "source": [
        "<a href=\"https://colab.research.google.com/github/JannaTarek/assignment-1/blob/main/Welcome_To_Colab.ipynb\" target=\"_parent\"><img src=\"https://colab.research.google.com/assets/colab-badge.svg\" alt=\"Open In Colab\"/></a>"
      ]
    },
    {
      "cell_type": "code",
      "source": [
        "#Create a dictionary called contacts\n",
        "contacts = {\n",
        "    \"Alice\": \"123-456-7890\",\n",
        "    \"Bob\": \"987-654-3210\",\n",
        "    \"Charlie\": \"555-123-4567\"\n",
        "}\n",
        "\n",
        "# Print all names in the contact book\n",
        "print(\"Contact Names:\")\n",
        "for name in contacts:\n",
        "    print(name)\n",
        "\n",
        "# Allow the user to search for a contact by name\n",
        "search_name = input(\"\\nEnter a name to search for: \")\n",
        "\n",
        "if search_name in contacts:\n",
        "    print(f\"{search_name}'s phone number is: {contacts[search_name]}\")\n",
        "else:\n",
        "    print(f\"{search_name} not found in the contact book.\")"
      ],
      "metadata": {
        "id": "WavmRnmmoqhF",
        "outputId": "7e46edd1-06f4-4c94-8ebd-4e7b968aae82",
        "colab": {
          "base_uri": "https://localhost:8080/"
        }
      },
      "execution_count": null,
      "outputs": [
        {
          "output_type": "stream",
          "name": "stdout",
          "text": [
            "Contact Names:\n",
            "Alice\n",
            "Bob\n",
            "Charlie\n"
          ]
        }
      ]
    }
  ],
  "metadata": {
    "colab": {
      "name": "Welcome To Colab",
      "provenance": [],
      "include_colab_link": true
    },
    "kernelspec": {
      "display_name": "Python 3",
      "name": "python3"
    }
  },
  "nbformat": 4,
  "nbformat_minor": 0
}